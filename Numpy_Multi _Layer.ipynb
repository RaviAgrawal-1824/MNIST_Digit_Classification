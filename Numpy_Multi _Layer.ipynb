{
  "nbformat": 4,
  "nbformat_minor": 0,
  "metadata": {
    "colab": {
      "provenance": []
    },
    "kernelspec": {
      "name": "python3",
      "display_name": "Python 3"
    },
    "language_info": {
      "name": "python"
    }
  },
  "cells": [
    {
      "cell_type": "markdown",
      "source": [
        "Digit Classification done on MNIST Datatset through fully connected multi-layer neural network made using NumPy."
      ],
      "metadata": {
        "id": "sGj7OZsE8lBq"
      }
    },
    {
      "cell_type": "code",
      "execution_count": null,
      "metadata": {
        "id": "YX30JVeEJpsg"
      },
      "outputs": [],
      "source": [
        "import numpy as np\n",
        "import matplotlib.pyplot as plt\n",
        "from keras.datasets import mnist"
      ]
    },
    {
      "cell_type": "code",
      "source": [
        "def softmax(x):\n",
        "  exp_element=np.exp(x-x.max())\n",
        "  return exp_element/np.sum(exp_element, keepdims=True, axis=0)\n",
        "\n",
        "def d_softmax(x):\n",
        "  exp_element=np.exp(x-x.max())\n",
        "  return exp_element/np.sum(exp_element,axis=0)*(1-exp_element/np.sum(exp_element,axis=0))\n",
        "\n",
        "def relu(x):\n",
        "  return np.maximum(0,x)\n",
        "  \n",
        "def d_relu(da,z):\n",
        "  dz = np.array(da, copy=True)\n",
        "  dz[z<=0] = 0\n",
        "  dz[z>0] = 1\n",
        "  return dz\n",
        "\n",
        "def sigmoid(x):\n",
        "  return 1/(np.exp(-x)+1)\n",
        "\n",
        "def d_sigmoid(x):\n",
        "  return (np.exp(-x))/((np.exp(-x)+1)**2)\n",
        "\n",
        "def one_hot(row_vector, no_classes):\n",
        "  one_hot_vector = np.eye(no_classes)[row_vector.reshape(-1)]\n",
        "  return one_hot_vector.T"
      ],
      "metadata": {
        "id": "8fH8l9kv978O"
      },
      "execution_count": null,
      "outputs": []
    },
    {
      "cell_type": "code",
      "source": [
        "class NeuralNet:\n",
        "\n",
        "  def __init__(self, layers):\n",
        "    self.num_layers = len(layers)\n",
        "    num_layers = self.num_layers\n",
        "    self.W = []\n",
        "    self.B = []\n",
        "    for i in range(1, self.num_layers):\n",
        "      self.W.append(np.random.randn(layers[i], layers[i-1])*np.sqrt(2/layers[i-1]))\n",
        "      self.B.append(np.zeros((layers[i],1)))\n",
        "\n",
        "  def forward(self, X):\n",
        "    self.Z = []\n",
        "    self.A = []\n",
        "    self.A.append(X)   \n",
        "    for i in range(1, self.num_layers-1):\n",
        "      self.Z.append(np.dot(self.W[i-1], self.A[i-1]) + self.B[i-1])\n",
        "      self.A.append(relu(self.Z[i-1]))\n",
        "    self.Z.append(np.dot(self.W[self.num_layers-2], self.A[self.num_layers-2]) + self.B[self.num_layers-2])\n",
        "    self.A.append(softmax(self.Z[self.num_layers-2]))\n",
        "    return self.Z, self.A\n",
        "\n",
        "  def cost(self, Y):\n",
        "    self.L = -np.sum(Y*np.log(self.A[self.num_layers-1] + 10**-7), keepdims=True, axis=0)\n",
        "    self.J = np.sum(self.L, keepdims=True, axis=1)/60000\n",
        "    return self.L, self.J\n",
        "\n",
        "  def accuracy(self, Y):\n",
        "    self.acc = np.multiply(self.A[-1], Y)\n",
        "    self.acc = np.sum(self.acc)/600\n",
        "    return self.acc\n",
        "\n",
        "  def backward(self, Y):\n",
        "    self.dA = []\n",
        "    self.dB = []\n",
        "    self.dW = []\n",
        "    self.dZ = []\n",
        "    self.dZ.append(self.A[self.num_layers-1] - Y)\n",
        "    self.dW.append(np.dot(self.dZ[0], self.A[self.num_layers-2].T)/60000)\n",
        "    self.dB.append(np.sum(self.dZ[0], axis=1, keepdims=True)/60000)\n",
        "    self.dA.append(np.dot(self.W[self.num_layers-2].T, self.dZ[0]))\n",
        "    for i in range(1,self.num_layers-1):\n",
        "      self.dZ.append(np.multiply(self.dA[i-1], d_relu(self.dA[i-1], self.Z[self.num_layers-i-2])))\n",
        "      self.dW.append(np.dot(self.dZ[i], self.A[self.num_layers-i-2].T)/60000)\n",
        "      self.dB.append(np.sum(self.dZ[i], axis=1, keepdims=True)/60000)\n",
        "      self.dA.append(np.dot(self.W[self.num_layers-i-2].T, self.dZ[i]))\n",
        "    return self.dA, self.dB, self.dW, self.dZ\n",
        "\n",
        "  def gradient(self, alpha):\n",
        "    for i in range(0,self.num_layers-1):\n",
        "      self.W[i] = self.W[i] - (alpha)*(self.dW[self.num_layers-i-2])\n",
        "      self.B[i] = self.B[i] - (alpha)*(self.dB[self.num_layers-i-2])\n",
        "    return self.W, self.B"
      ],
      "metadata": {
        "id": "de8bcUr2-Awu"
      },
      "execution_count": null,
      "outputs": []
    },
    {
      "cell_type": "code",
      "source": [
        "(x_train, y_train), (x_test, y_test) = mnist.load_data()\n",
        "x_train = x_train.reshape(x_train.shape[0], -1).T\n",
        "x_test = x_test.reshape(x_test.shape[0], -1).T\n",
        "x_train = x_train.astype(float)\n",
        "x_test = x_test.astype(float)\n",
        "x_train /= 255\n",
        "x_test /= 255\n",
        "y_train = one_hot(y_train, 10)\n",
        "y_test = one_hot(y_test, 10)\n",
        "assert x_train.shape == (784, 60000)\n",
        "assert x_test.shape == (784, 10000)\n",
        "assert y_train.shape == (10, 60000)\n",
        "assert y_test.shape == (10, 10000)\n"
      ],
      "metadata": {
        "colab": {
          "base_uri": "https://localhost:8080/"
        },
        "id": "PBAZqkDR-LnN",
        "outputId": "3338d0c4-f5d6-444a-a85e-e6a41fd94f56"
      },
      "execution_count": null,
      "outputs": [
        {
          "output_type": "stream",
          "name": "stdout",
          "text": [
            "Downloading data from https://storage.googleapis.com/tensorflow/tf-keras-datasets/mnist.npz\n",
            "11490434/11490434 [==============================] - 1s 0us/step\n"
          ]
        }
      ]
    },
    {
      "cell_type": "code",
      "source": [
        "net = NeuralNet([784, 512, 392, 128, 32, 10])\n",
        "print(np.shape(net.B[3]))\n",
        "z, a = net.forward(x_train)\n",
        "print(np.shape(a[0]))\n",
        "da, db, dw, dz = net.backward(y_train)\n",
        "print(np.shape(dw[3]))\n",
        "w, b = net.gradient(0.01)\n",
        "print(np.shape(w[0]))"
      ],
      "metadata": {
        "colab": {
          "base_uri": "https://localhost:8080/"
        },
        "id": "YAICtdFX-Xqb",
        "outputId": "4f630bc8-a555-44d7-d3a0-6d77c3a88801"
      },
      "execution_count": null,
      "outputs": [
        {
          "output_type": "stream",
          "name": "stdout",
          "text": [
            "(32, 1)\n",
            "(784, 60000)\n",
            "(392, 512)\n",
            "(512, 784)\n"
          ]
        }
      ]
    },
    {
      "cell_type": "code",
      "source": [
        "cost_func = []\n",
        "accuracy = []\n",
        "Net = NeuralNet([784, 392, 196, 10])\n",
        "for j in range(0,201):\n",
        "  Net.forward(x_train)\n",
        "  L, J = Net.cost(y_train)\n",
        "  acc = Net.accuracy(y_train)\n",
        "  cost_func.append(np.squeeze(J))\n",
        "  accuracy.append(acc)\n",
        "  if j%5 ==0:\n",
        "      print(f'epoch : {j} / cost : {np.squeeze(J)} / accuracy : {acc}')\n",
        "  Net.backward(y_train)\n",
        "  Net.gradient(0.03)"
      ],
      "metadata": {
        "colab": {
          "base_uri": "https://localhost:8080/"
        },
        "id": "z3N6kKku-bUe",
        "outputId": "cb920024-3cee-4099-802f-0db769699605"
      },
      "execution_count": null,
      "outputs": [
        {
          "output_type": "stream",
          "name": "stdout",
          "text": [
            "epoch : 0 / cost : 2.454356808879522 / accuracy : 9.933438132342959\n",
            "epoch : 5 / cost : 2.2087175813133313 / accuracy : 11.611525322143358\n",
            "epoch : 10 / cost : 2.052987289616305 / accuracy : 13.494049555913978\n",
            "epoch : 15 / cost : 1.9129292129200264 / accuracy : 15.727468980336589\n",
            "epoch : 20 / cost : 1.7772322535996248 / accuracy : 18.353776051854215\n",
            "epoch : 25 / cost : 1.6451632386252368 / accuracy : 21.3520110085657\n",
            "epoch : 30 / cost : 1.5194091973716977 / accuracy : 24.629043491323074\n",
            "epoch : 35 / cost : 1.4024818704417201 / accuracy : 28.068211821989614\n",
            "epoch : 40 / cost : 1.2958065932905136 / accuracy : 31.559393423044483\n",
            "epoch : 45 / cost : 1.200232627521788 / accuracy : 34.99484193149988\n",
            "epoch : 50 / cost : 1.1157124767075606 / accuracy : 38.292072917918944\n",
            "epoch : 55 / cost : 1.0416230154308164 / accuracy : 41.39244460521583\n",
            "epoch : 60 / cost : 0.976951700927862 / accuracy : 44.262719157777916\n",
            "epoch : 65 / cost : 0.920540021935565 / accuracy : 46.89258269817646\n",
            "epoch : 70 / cost : 0.8712601365487352 / accuracy : 49.28850144985582\n",
            "epoch : 75 / cost : 0.8280780858122616 / accuracy : 51.46448939309893\n",
            "epoch : 80 / cost : 0.7900510014291956 / accuracy : 53.44034997312243\n",
            "epoch : 85 / cost : 0.7564052748166307 / accuracy : 55.23562952456096\n",
            "epoch : 90 / cost : 0.7264857798220358 / accuracy : 56.86996757646929\n",
            "epoch : 95 / cost : 0.6997504409299955 / accuracy : 58.360774985517565\n",
            "epoch : 100 / cost : 0.6757378030502004 / accuracy : 59.724673413403565\n",
            "epoch : 105 / cost : 0.6540605486998422 / accuracy : 60.976697703816306\n",
            "epoch : 110 / cost : 0.6344183885331279 / accuracy : 62.12839960946717\n",
            "epoch : 115 / cost : 0.6165425157322366 / accuracy : 63.190879138436\n",
            "epoch : 120 / cost : 0.6002077196696275 / accuracy : 64.1737794026503\n",
            "epoch : 125 / cost : 0.5852330828164124 / accuracy : 65.0853253293189\n",
            "epoch : 130 / cost : 0.5714585279276813 / accuracy : 65.9325579216465\n",
            "epoch : 135 / cost : 0.5587462085010763 / accuracy : 66.72204195959199\n",
            "epoch : 140 / cost : 0.546982826383653 / accuracy : 67.45932164763148\n",
            "epoch : 145 / cost : 0.5360691818276007 / accuracy : 68.1490647801877\n",
            "epoch : 150 / cost : 0.525907597283614 / accuracy : 68.79630216824776\n",
            "epoch : 155 / cost : 0.5164259073602109 / accuracy : 69.40454866603885\n",
            "epoch : 160 / cost : 0.5075604706894836 / accuracy : 69.97716886759409\n",
            "epoch : 165 / cost : 0.49925762417556513 / accuracy : 70.51679991338807\n",
            "epoch : 170 / cost : 0.49145992605464667 / accuracy : 71.02657123985135\n",
            "epoch : 175 / cost : 0.48411957160745744 / accuracy : 71.50900702872944\n",
            "epoch : 180 / cost : 0.4771985933052621 / accuracy : 71.96614548468548\n",
            "epoch : 185 / cost : 0.4706640164150983 / accuracy : 72.39982002423743\n",
            "epoch : 190 / cost : 0.46447958639382086 / accuracy : 72.81194821547157\n",
            "epoch : 195 / cost : 0.4586176232409035 / accuracy : 73.20416467237601\n",
            "epoch : 200 / cost : 0.45305333686604016 / accuracy : 73.57782018636233\n"
          ]
        }
      ]
    },
    {
      "cell_type": "code",
      "source": [
        "plt.plot(cost_func)\n",
        "plt.title(\"Multi Layer Loss\")\n",
        "plt.show()"
      ],
      "metadata": {
        "colab": {
          "base_uri": "https://localhost:8080/",
          "height": 281
        },
        "id": "-2kOeWEU-qRt",
        "outputId": "32f64f7b-2d7a-4d47-c7cf-0a37dfa150a7"
      },
      "execution_count": null,
      "outputs": [
        {
          "output_type": "display_data",
          "data": {
            "text/plain": [
              "<Figure size 432x288 with 1 Axes>"
            ],
            "image/png": "[encoded data removed]"
          },
          "metadata": {
            "needs_background": "light"
          }
        }
      ]
    },
    {
      "cell_type": "code",
      "source": [
        "plt.plot(accuracy)\n",
        "plt.title(\"Multi Layer Accuracy\")\n",
        "plt.show()"
      ],
      "metadata": {
        "colab": {
          "base_uri": "https://localhost:8080/",
          "height": 281
        },
        "id": "g9pjBO_M-rc1",
        "outputId": "b8360db0-72b8-4393-8f7f-66a57787bc82"
      },
      "execution_count": null,
      "outputs": [
        {
          "output_type": "display_data",
          "data": {
            "text/plain": [
              "<Figure size 432x288 with 1 Axes>"
            ],
            "image/png": "[encoded data removed]"
          },
          "metadata": {
            "needs_background": "light"
          }
        }
      ]
    }
  ]
}