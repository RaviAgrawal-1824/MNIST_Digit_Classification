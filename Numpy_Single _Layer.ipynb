{
  "nbformat": 4,
  "nbformat_minor": 0,
  "metadata": {
    "colab": {
      "provenance": []
    },
    "kernelspec": {
      "name": "python3",
      "display_name": "Python 3"
    },
    "language_info": {
      "name": "python"
    }
  },
  "cells": [
    {
      "cell_type": "markdown",
      "source": [
        "MNIST Digit Classification without any hidden layer using Numpy."
      ],
      "metadata": {
        "id": "v_CbCU0-F9Sq"
      }
    },
    {
      "cell_type": "code",
      "source": [
        "!pip install idx2numpy\n",
        "import matplotlib.pyplot as plt\n",
        "import numpy as np\n",
        "import idx2numpy # for conversion into NumPy arrray\n",
        "import gzip # for unziping the files stored locally on device.\n",
        "\n",
        "!wget -P /content/data http://yann.lecun.com/exdb/mnist/train-images-idx3-ubyte.gz\n",
        "!wget -P /content/data http://yann.lecun.com/exdb/mnist/train-labels-idx1-ubyte.gz\n",
        "!wget -P /content/data http://yann.lecun.com/exdb/mnist/t10k-images-idx3-ubyte.gz\n",
        "!wget -P /content/data http://yann.lecun.com/exdb/mnist/t10k-labels-idx1-ubyte.gz\n",
        "\n",
        "f1 = gzip.open('/content/data/train-images-idx3-ubyte.gz')\n",
        "f2 = gzip.open('/content/data/train-labels-idx1-ubyte.gz')\n",
        "f3 = gzip.open('/content/data/t10k-images-idx3-ubyte.gz')\n",
        "f4 = gzip.open('/content/data/t10k-labels-idx1-ubyte.gz')\n",
        "\n",
        "print(type(f1))\n",
        "data1 = idx2numpy.convert_from_file(f1)\n",
        "print(type(data1))\n",
        "label = idx2numpy.convert_from_file(f2)\n",
        "print(data1.shape)\n",
        "print(label.shape)"
      ],
      "metadata": {
        "id": "7q9lnTQLvEWV"
      },
      "execution_count": null,
      "outputs": []
    },
    {
      "cell_type": "code",
      "source": [
        "def softmax(x):\n",
        "  expo = np.exp(x - x.max())\n",
        "  expo = expo/np.sum(expo, keepdims = True, axis = 0)\n",
        "  return expo\n",
        "\n",
        "def d_softmax(x):\n",
        "    exp_element = np.exp(x - x.max())\n",
        "    exp_element = exp_element/np.sum(exp_element,axis=0)*(1-exp_element/np.sum(exp_element,axis=0))\n",
        "    return exp_element"
      ],
      "metadata": {
        "id": "YAWUrHzv0bJc"
      },
      "execution_count": null,
      "outputs": []
    },
    {
      "cell_type": "code",
      "source": [
        "data_long=data1.reshape(data1.shape[0],784).T/255\n",
        "print(data_long.shape)\n",
        "\n",
        "prob_label=np.eye(10)[label].T\n",
        "prob_label = prob_label.reshape(10,60000)\n",
        "print(prob_label.shape)\n",
        "print((prob_label[: , 5]))\n",
        "\n",
        "W = np.random.randn(784,10)*0.001\n",
        "b = 0\n",
        "alpha = 0.5\n",
        "cost = 0 \n",
        "cost_func = [] \n",
        "accuracy = []"
      ],
      "metadata": {
        "id": "pVaPm0P0zPy3",
        "colab": {
          "base_uri": "https://localhost:8080/"
        },
        "outputId": "3b45cd42-370e-4d38-e4a4-3b41113d3e3b"
      },
      "execution_count": null,
      "outputs": [
        {
          "output_type": "stream",
          "name": "stdout",
          "text": [
            "(784, 60000)\n",
            "(10, 60000)\n",
            "[0. 0. 1. 0. 0. 0. 0. 0. 0. 0.]\n"
          ]
        }
      ]
    },
    {
      "cell_type": "code",
      "source": [
        "for i in range(0,300): \n",
        "  #Forward Prop\n",
        "  Z = np.dot(W.T, data_long) + b\n",
        "  A = softmax(Z)\n",
        "\n",
        "  #Getting Output\n",
        "  out = A.reshape(10,60000)\n",
        "  guess = np.argmax(out, axis = 0)\n",
        "\n",
        "  #Printing Output\n",
        "  if i%10 == 0:\n",
        "    print(label)\n",
        "    print(guess)\n",
        "\n",
        "  #Loss and Cost\n",
        "  loss = -np.sum(prob_label*np.log(A + 0.000001) + (1-prob_label)*np.log(1-A + 0.000001), keepdims = True, axis = 0)\n",
        "  cost = np.sum(loss, keepdims = True, axis = 1)/60000\n",
        "  cost = float(np.squeeze(cost))\n",
        "  cost_func.append(cost)\n",
        "  if i%10==0:\n",
        "    print(cost)\n",
        "\n",
        "  #Getting Accuracy\n",
        "  OH_out = (np.eye(10)[guess]).T  # one hot vector from guess\n",
        "  acc = np.multiply(OH_out, prob_label)\n",
        "  acc = np.sum(acc)/600\n",
        "  accuracy.append(acc)\n",
        "\n",
        "  if i%10 == 0:\n",
        "    print(acc)\n",
        "\n",
        "  #Backward Prop\n",
        "  dZ = A - prob_label\n",
        "  dW = np.dot(data_long, dZ.T)/60000\n",
        "  db = np.sum(dZ, keepdims=True, axis=1)/60000\n",
        "  W = W - alpha*dW\n",
        "  b = b - alpha*db"
      ],
      "metadata": {
        "id": "av4dKSNW5IA9"
      },
      "execution_count": null,
      "outputs": []
    },
    {
      "cell_type": "code",
      "source": [
        "plt.plot(cost_func)\n",
        "plt.title(\"Single Layer Loss\")\n",
        "plt.xlabel('No. of Epochs')\n",
        "plt.ylabel('Cost Function')\n",
        "plt.show()"
      ],
      "metadata": {
        "colab": {
          "base_uri": "https://localhost:8080/",
          "height": 295
        },
        "id": "fiKccx9T8aXu",
        "outputId": "904d806c-4d4b-49c4-a075-a8ff052aa549"
      },
      "execution_count": null,
      "outputs": [
        {
          "output_type": "display_data",
          "data": {
            "text/plain": [
              "<Figure size 432x288 with 1 Axes>"
            ],
            "image/png": "[encoded data removed]"
          },
          "metadata": {
            "needs_background": "light"
          }
        }
      ]
    },
    {
      "cell_type": "code",
      "source": [
        "plt.plot(accuracy)\n",
        "plt.title(\"Single Layer Accuracy\")\n",
        "plt.xlabel('No. of Epochs')\n",
        "plt.ylabel('Accuracy Percentage')\n",
        "plt.show()"
      ],
      "metadata": {
        "colab": {
          "base_uri": "https://localhost:8080/",
          "height": 295
        },
        "id": "j-Ou_ZhQHI65",
        "outputId": "88dbe88f-e004-4894-f545-04889d01905b"
      },
      "execution_count": null,
      "outputs": [
        {
          "output_type": "display_data",
          "data": {
            "text/plain": [
              "<Figure size 432x288 with 1 Axes>"
            ],
            "image/png": "[encoded data removed]"
          },
          "metadata": {
            "needs_background": "light"
          }
        }
      ]
    }
  ]
}